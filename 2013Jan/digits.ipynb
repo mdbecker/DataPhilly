{
 "metadata": {
  "name": "digits"
 }, 
 "name": "digits", 
 "nbformat": 2, 
 "worksheets": [
  {
   "cells": [
    {
     "cell_type": "code", 
     "collapsed": true, 
     "input": "# http://scikit-learn.sourceforge.net/dev/tutorial/basic/tutorial.html#introduction\n\"\"\"scikit-learn comes with a few standard datasets, for instance the iris and digits datasets for classification and the boston house prices dataset for\nregression.\n\"\"\"\nfrom sklearn import datasets\ndigits = datasets.load_digits()", 
     "language": "python", 
     "outputs": [], 
     "prompt_number": 2
    }, 
    {
     "cell_type": "code", 
     "collapsed": false, 
     "input": "\"\"\"In general, a learning problem considers a set of n samples of data and trys to predict properties of unknown data. If each sample is more than a single number, is it said to have several attributes, or features.\n\nA dataset is a dictionary-like object that holds all the data and some metadata about the data. This data is stored in the .data member, which\nis a 2d array of n_samples, n_features. In the case of supervised problem, explanatory variables are stored in the .target member.\n\"\"\"", 
     "language": "python", 
     "outputs": [
      {
       "output_type": "pyout", 
       "prompt_number": 3, 
       "text": "'In general, a learning problem considers a set of n samples of data and trys to predict properties of unknown data. If each sample is more than a single number, is it said to have several attributes, or features.\\n\\nA dataset is a dictionary-like object that holds all the data and some metadata about the data. This data is stored in the .data member, which\\nis a 2d array of n_samples, n_features. In the case of supervised problem, explanatory variables are stored in the .target member.\\n'"
      }
     ], 
     "prompt_number": 3
    }, 
    {
     "cell_type": "code", 
     "collapsed": false, 
     "input": "\"\"\"digits.data gives access to the features that can be used to classify the digits samples\n\"\"\"\nprint digits.data", 
     "language": "python", 
     "outputs": [
      {
       "output_type": "stream", 
       "stream": "stdout", 
       "text": "[[  0.   0.   5. ...,   0.   0.   0.]\n [  0.   0.   0. ...,  10.   0.   0.]\n [  0.   0.   0. ...,  16.   9.   0.]\n ..., \n [  0.   0.   1. ...,   6.   0.   0.]\n [  0.   0.   2. ...,  12.   0.   0.]\n [  0.   0.  10. ...,  12.   1.   0.]]"
      }
     ], 
     "prompt_number": 4
    }, 
    {
     "cell_type": "code", 
     "collapsed": false, 
     "input": "\"\"\"digits.target gives the classification for the digit dataset, that is the number corresponding to each digit image that we are trying to learn\n\"\"\"\ndigits.target", 
     "language": "python", 
     "outputs": [
      {
       "output_type": "pyout", 
       "prompt_number": 5, 
       "text": "array([0, 1, 2, ..., 8, 9, 8])"
      }
     ], 
     "prompt_number": 5
    }, 
    {
     "cell_type": "code", 
     "collapsed": false, 
     "input": "\"\"\"The data is always a 2D array, n_samples, n_features, although the original data may have had a different shape. In the case of the digits, each\noriginal sample is an image of shape 8, 8 and can be accessed using\n\"\"\"\nimport pylab as pl\nprint digits.images[0]\npl.axis('off')\npl.imshow(digits.images[0], cmap=pl.cm.gray_r, interpolation='nearest')\npl.show()\nprint digits.target[0]", 
     "language": "python", 
     "outputs": [
      {
       "output_type": "stream", 
       "stream": "stdout", 
       "text": "[[  0.   0.   5.  13.   9.   1.   0.   0.]\n [  0.   0.  13.  15.  10.  15.   5.   0.]\n [  0.   3.  15.   2.   0.  11.   8.   0.]\n [  0.   4.  12.   0.   0.   8.   8.   0.]\n [  0.   5.   8.   0.   0.   9.   8.   0.]\n [  0.   4.  11.   0.   1.  12.   7.   0.]\n [  0.   2.  14.   5.  10.  12.   0.   0.]\n [  0.   0.   6.  13.  10.   0.   0.   0.]]"
      }, 
      {
       "output_type": "display_data", 
       "png": "[encoded data removed]"
      }, 
      {
       "output_type": "stream", 
       "stream": "stdout", 
       "text": "0"
      }
     ], 
     "prompt_number": 6
    }, 
    {
     "cell_type": "code", 
     "collapsed": true, 
     "input": "\"\"\"In the case of the digits dataset, the task is to predict the value of a hand-written digit from an image. We are given samples of each of the 10\npossible classes on which we fit an estimator to be able to predict the labels corresponding to new data.\nAn example of estimator is the class sklearn.svm.SVC that implements Support Vector Classification. The constructor of an estimator takes as arguments\nthe parameters of the model, but for the time being, we will consider the estimator as a black box\n\"\"\"\nfrom sklearn import svm", 
     "language": "python", 
     "outputs": [], 
     "prompt_number": 7
    }, 
    {
     "cell_type": "code", 
     "collapsed": true, 
     "input": "\"\"\"In this example we set the value of gamma manually. It is possible to automatically find good values for the parameters by using tools such as grid\nsearch and cross validation.\n\"\"\"\nclf = svm.SVC(gamma=0.001, C=100.)", 
     "language": "python", 
     "outputs": [], 
     "prompt_number": 8
    }, 
    {
     "cell_type": "code", 
     "collapsed": false, 
     "input": "\"\"\"It now must be fitted to the model, that is, it must learn from the model. This is done by passing our training set to the fit method. As a training\nset, let us use all the images of our dataset apart from the last one\n\nWe create a predictor...\n\"\"\"\nclf.fit(digits.data[:-10], digits.target[:-10])", 
     "language": "python", 
     "outputs": [
      {
       "output_type": "pyout", 
       "prompt_number": 9, 
       "text": "SVC(C=100.0, cache_size=200, class_weight=None, coef0=0.0, degree=3,\n  gamma=0.001, kernel='rbf', probability=False, shrinking=True, tol=0.001,\n  verbose=False)"
      }
     ], 
     "prompt_number": 9
    }, 
    {
     "cell_type": "code", 
     "collapsed": false, 
     "input": "\"\"\"Now you can predict new values, in particular, we can ask to the classifier what is the digit of our last image in the digits dataset, which we have\nnot used to train the classifier\"\"\"\nfor i in range(10):\n    print clf.predict(digits.data[-i]), digits.target[-i]\n    pl.axis('off')\n    pl.imshow(digits.images[-i], cmap=pl.cm.gray_r, interpolation='nearest')\n    pl.show()", 
     "language": "python", 
     "outputs": [
      {
       "output_type": "stream", 
       "stream": "stdout", 
       "text": "[ 0.] 0"
      }, 
      {
       "output_type": "display_data", 
       "png": "[encoded data removed]"
      }, 
      {
       "output_type": "stream", 
       "stream": "stdout", 
       "text": "[ 8.] 8"
      }, 
      {
       "output_type": "display_data", 
       "png": "[encoded data removed]"
      }, 
      {
       "output_type": "stream", 
       "stream": "stdout", 
       "text": "[ 9.] 9"
      }, 
      {
       "output_type": "display_data", 
       "png": "[encoded data removed]"
      }, 
      {
       "output_type": "stream", 
       "stream": "stdout", 
       "text": "[ 8.] 8"
      }, 
      {
       "output_type": "display_data", 
       "png": "[encoded data removed]"
      }, 
      {
       "output_type": "stream", 
       "stream": "stdout", 
       "text": "[ 0.] 0"
      }, 
      {
       "output_type": "display_data", 
       "png": "[encoded data removed]"
      }, 
      {
       "output_type": "stream", 
       "stream": "stdout", 
       "text": "[ 9.] 9"
      }, 
      {
       "output_type": "display_data", 
       "png": "[encoded data removed]"
      }, 
      {
       "output_type": "stream", 
       "stream": "stdout", 
       "text": "[ 4.] 4"
      }, 
      {
       "output_type": "display_data", 
       "png": "[encoded data removed]"
      }, 
      {
       "output_type": "stream", 
       "stream": "stdout", 
       "text": "[ 8.] 8"
      }, 
      {
       "output_type": "display_data", 
       "png": "[encoded data removed]"
      }, 
      {
       "output_type": "stream", 
       "stream": "stdout", 
       "text": "[ 8.] 8"
      }, 
      {
       "output_type": "display_data", 
       "png": "[encoded data removed]"
      }, 
      {
       "output_type": "stream", 
       "stream": "stdout", 
       "text": "[ 4.] 4"
      }, 
      {
       "output_type": "display_data", 
       "png": "[encoded data removed]"
      }
     ], 
     "prompt_number": 10
    }, 
    {
     "cell_type": "code", 
     "collapsed": false, 
     "input": "\"\"\"However this is not a really good way to split our dataset in practice. Let's try out some cross-validation which will give us more confidence in our model.\"\"\"\nfrom sklearn.cross_validation import cross_val_score\nclf = svm.SVC(gamma=0.001, C=100.)\nscores = cross_val_score(clf, digits.data, digits.target, cv=5)\n\nprint scores\nprint scores.mean()", 
     "language": "python", 
     "outputs": [
      {
       "output_type": "stream", 
       "stream": "stdout", 
       "text": "[ 0.98888889  0.98055556  1.          0.98885794  0.99164345]\n0.98998916744"
      }
     ], 
     "prompt_number": 18
    }, 
    {
     "cell_type": "code", 
     "collapsed": true, 
     "input": "", 
     "language": "python", 
     "outputs": []
    }
   ]
  }
 ]
}